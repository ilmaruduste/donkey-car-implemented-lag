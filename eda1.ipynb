{
 "cells": [
  {
   "cell_type": "code",
   "execution_count": 1,
   "metadata": {},
   "outputs": [],
   "source": [
    "import os\n",
    "# do we have the correct env loaded?\n",
    "assert 'donkey' == os.environ['CONDA_DEFAULT_ENV'], os.environ['CONDA_DEFAULT_ENV']"
   ]
  },
  {
   "cell_type": "code",
   "execution_count": 2,
   "metadata": {},
   "outputs": [
    {
     "name": "stdout",
     "output_type": "stream",
     "text": [
      "________             ______                   _________              \n",
      "___  __ \\_______________  /___________  __    __  ____/_____ ________\n",
      "__  / / /  __ \\_  __ \\_  //_/  _ \\_  / / /    _  /    _  __ `/_  ___/\n",
      "_  /_/ // /_/ /  / / /  ,<  /  __/  /_/ /     / /___  / /_/ /_  /    \n",
      "/_____/ \\____//_/ /_//_/|_| \\___/_\\__, /      \\____/  \\__,_/ /_/     \n",
      "                                 /____/                              \n",
      "\n",
      "using donkey v4.3.9 ...\n"
     ]
    }
   ],
   "source": [
    "import numpy as np\n",
    "import donkeycar as dk"
   ]
  },
  {
   "cell_type": "code",
   "execution_count": 3,
   "metadata": {},
   "outputs": [
    {
     "data": {
      "text/plain": [
       "['Figlet',\n",
       " 'Memory',\n",
       " 'Vehicle',\n",
       " '__builtins__',\n",
       " '__cached__',\n",
       " '__doc__',\n",
       " '__file__',\n",
       " '__loader__',\n",
       " '__name__',\n",
       " '__package__',\n",
       " '__path__',\n",
       " '__spec__',\n",
       " '__version__',\n",
       " 'config',\n",
       " 'contrib',\n",
       " 'f',\n",
       " 'get_distribution',\n",
       " 'load_config',\n",
       " 'logging',\n",
       " 'memory',\n",
       " 'os',\n",
       " 'sys',\n",
       " 'utils',\n",
       " 'vehicle']"
      ]
     },
     "execution_count": 3,
     "metadata": {},
     "output_type": "execute_result"
    }
   ],
   "source": [
    "dir(dk)"
   ]
  },
  {
   "cell_type": "code",
   "execution_count": 4,
   "metadata": {},
   "outputs": [
    {
     "name": "stderr",
     "output_type": "stream",
     "text": [
      "INFO:donkeycar.config:loading config file: donkeycar/mycar/config.py\n",
      "INFO:donkeycar.config:loading personal config over-rides from myconfig.py\n"
     ]
    }
   ],
   "source": [
    "cfg = dk.load_config(config_path='donkeycar/mycar/config.py')"
   ]
  },
  {
   "cell_type": "code",
   "execution_count": 6,
   "metadata": {},
   "outputs": [
    {
     "name": "stdout",
     "output_type": "stream",
     "text": [
      "AI_LAUNCH_DURATION : 0.0\n",
      "AI_LAUNCH_ENABLE_BUTTON : R2\n",
      "AI_LAUNCH_KEEP_ENABLED : False\n",
      "AI_LAUNCH_THROTTLE : 0.0\n",
      "AI_THROTTLE_MULT : 1.0\n",
      "AUGMENTATIONS : []\n",
      "AUG_BLUR_RANGE : (0.0, 3.0)\n",
      "AUG_MULTIPLY_RANGE : (0.5, 3.0)\n",
      "AUTO_CREATE_NEW_TUB : False\n",
      "AUTO_RECORD_ON_THROTTLE : True\n",
      "BATCH_SIZE : 128\n",
      "BEHAVIOR_LED_COLORS : [(0, 10, 0), (10, 0, 0)]\n",
      "BEHAVIOR_LIST : ['Left_Lane', 'Right_Lane']\n",
      "BUTTON_PRESS_NEW_TUB : False\n",
      "CAMERA_FRAMERATE : 20\n",
      "CAMERA_HFLIP : False\n",
      "CAMERA_INDEX : 0\n",
      "CAMERA_TYPE : PICAM\n",
      "CAMERA_VFLIP : False\n",
      "CAR_PATH : f:\\git\\donkey_car_implemented_lag\\donkeycar\\mycar\n",
      "CONTROLLER_TYPE : xbox\n",
      "CREATE_TENSOR_RT : False\n",
      "CREATE_TF_LITE : True\n",
      "CSIC_CAM_GSTREAMER_FLIP_PARM : 0\n",
      "DATA_PATH : f:\\git\\donkey_car_implemented_lag\\donkeycar\\mycar\\data\n",
      "DATA_WIPER_RC_GPIO : 19\n",
      "DC_STEER_THROTTLE : {'LEFT_DUTY_PIN': 'RPI_GPIO.BOARD.18', 'RIGHT_DUTY_PIN': 'RPI_GPIO.BOARD.16', 'FWD_DUTY_PIN': 'RPI_GPIO.BOARD.15', 'BWD_DUTY_PIN': 'RPI_GPIO.BOARD.13'}\n",
      "DC_TWO_WHEEL : {'LEFT_FWD_DUTY_PIN': 'RPI_GPIO.BOARD.18', 'LEFT_BWD_DUTY_PIN': 'RPI_GPIO.BOARD.16', 'RIGHT_FWD_DUTY_PIN': 'RPI_GPIO.BOARD.15', 'RIGHT_BWD_DUTY_PIN': 'RPI_GPIO.BOARD.13'}\n",
      "DC_TWO_WHEEL_L298N : {'LEFT_FWD_PIN': 'RPI_GPIO.BOARD.16', 'LEFT_BWD_PIN': 'RPI_GPIO.BOARD.18', 'LEFT_EN_DUTY_PIN': 'RPI_GPIO.BOARD.22', 'RIGHT_FWD_PIN': 'RPI_GPIO.BOARD.15', 'RIGHT_BWD_PIN': 'RPI_GPIO.BOARD.13', 'RIGHT_EN_DUTY_PIN': 'RPI_GPIO.BOARD.11'}\n",
      "DEFAULT_AI_FRAMEWORK : tensorflow\n",
      "DEFAULT_MODEL_TYPE : linear\n",
      "DONKEY_GYM : False\n",
      "DONKEY_GYM_ENV_NAME : donkey-generated-track-v0\n",
      "DONKEY_SIM_PATH : path to sim\n",
      "DRIVE_LOOP_HZ : 20\n",
      "DRIVE_TRAIN_TYPE : PWM_STEERING_THROTTLE\n",
      "EARLY_STOP_PATIENCE : 5\n",
      "ENCODER_TYPE : GPIO\n",
      "FPS_DEBUG_INTERVAL : 10\n",
      "FREEZE_LAYERS : False\n",
      "GYM_CONF : {'body_style': 'donkey', 'body_rgb': (128, 128, 128), 'car_name': 'car', 'font_size': 100, 'racer_name': 'Your Name', 'country': 'Place', 'bio': 'I race robots.'}\n",
      "HAVE_CONSOLE_LOGGING : True\n",
      "HAVE_IMU : False\n",
      "HAVE_MQTT_TELEMETRY : False\n",
      "HAVE_ODOM : False\n",
      "HAVE_PERFMON : False\n",
      "HAVE_RGB_LED : False\n",
      "HAVE_SOMBRERO : False\n",
      "HBRIDGE_PIN_BWD : 16\n",
      "HBRIDGE_PIN_FWD : 18\n",
      "IMAGE_DEPTH : 3\n",
      "IMAGE_H : 120\n",
      "IMAGE_W : 160\n",
      "IMU_DLP_CONFIG : 0\n",
      "IMU_SENSOR : mpu6050\n",
      "JOYSTICK_DEADZONE : 0.01\n",
      "JOYSTICK_DEVICE_FILE : /dev/input/js0\n",
      "JOYSTICK_MAX_THROTTLE : 0.5\n",
      "JOYSTICK_STEERING_SCALE : 1.0\n",
      "JOYSTICK_THROTTLE_DIR : -1.0\n",
      "LEARNING_RATE : 0.001\n",
      "LEARNING_RATE_DECAY : 0.0\n",
      "LED_B : 1\n",
      "LED_G : 0\n",
      "LED_INVERT : False\n",
      "LED_PIN_B : 16\n",
      "LED_PIN_G : 10\n",
      "LED_PIN_R : 12\n",
      "LED_R : 0\n",
      "LIDAR_LOWER_LIMIT : 90\n",
      "LIDAR_TYPE : RP\n",
      "LIDAR_UPPER_LIMIT : 270\n",
      "LOGGING_FORMAT : %(message)s\n",
      "LOGGING_LEVEL : INFO\n",
      "MAX_EPOCHS : 100\n",
      "MAX_LOOPS : None\n",
      "MIN_DELTA : 0.0005\n",
      "MM1_MAX_FORWARD : 2000\n",
      "MM1_MAX_REVERSE : 1000\n",
      "MM1_SERIAL_PORT : /dev/ttyS0\n",
      "MM1_SHOW_STEERING_VALUE : False\n",
      "MM1_STEERING_MID : 1500\n",
      "MM1_STOPPED_PWM : 1500\n",
      "MM_PER_TICK : 12.7625\n",
      "MODELS_PATH : f:\\git\\donkey_car_implemented_lag\\donkeycar\\mycar\\models\n",
      "MODEL_CATEGORICAL_MAX_THROTTLE_RANGE : 0.8\n",
      "MODEL_RELOADED_LED_B : 0\n",
      "MODEL_RELOADED_LED_G : 0\n",
      "MODEL_RELOADED_LED_R : 100\n",
      "NETWORK_JS_SERVER_IP : None\n",
      "NUM_LAST_LAYERS_TO_TRAIN : 7\n",
      "NUM_LOCATIONS : 10\n",
      "ODOM_DEBUG : False\n",
      "ODOM_PIN : 13\n",
      "OPTIMIZER : None\n",
      "PACKAGE_PATH : f:\\git\\donkey_car_implemented_lag\\donkeycar\\mycar\n",
      "PATH_FILENAME : donkey_path.pkl\n",
      "PATH_MIN_DIST : 0.3\n",
      "PATH_OFFSET : (0, 0)\n",
      "PATH_SCALE : 5.0\n",
      "PCA9685_I2C_ADDR : 64\n",
      "PCA9685_I2C_BUSNUM : None\n",
      "PID_D : -0.2\n",
      "PID_I : 0.0\n",
      "PID_P : -10.0\n",
      "PID_THROTTLE : 0.2\n",
      "PIGPIO_INVERT : False\n",
      "PIGPIO_JITTER : 0.025\n",
      "PIGPIO_MAX_FORWARD : 2000\n",
      "PIGPIO_MAX_REVERSE : 1000\n",
      "PIGPIO_SHOW_STEERING_VALUE : False\n",
      "PIGPIO_STEERING_MID : 1500\n",
      "PIGPIO_STOPPED_PWM : 1500\n",
      "PRINT_MODEL_SUMMARY : True\n",
      "PRUNE_CNN : False\n",
      "PRUNE_EVAL_PERCENT_OF_DATASET : 0.05\n",
      "PRUNE_PERCENT_PER_ITERATION : 20\n",
      "PRUNE_PERCENT_TARGET : 75\n",
      "PRUNE_VAL_LOSS_DEGRADATION_LIMIT : 0.2\n",
      "PUB_CAMERA_IMAGES : False\n",
      "PWM_STEERING_THROTTLE : {'PWM_STEERING_PIN': 'PCA9685.1:40.1', 'PWM_STEERING_SCALE': 1.0, 'PWM_STEERING_INVERTED': False, 'PWM_THROTTLE_PIN': 'PCA9685.1:40.0', 'PWM_THROTTLE_SCALE': 1.0, 'PWM_THROTTLE_INVERTED': False, 'STEERING_LEFT_PWM': 460, 'STEERING_RIGHT_PWM': 290, 'THROTTLE_FORWARD_PWM': 500, 'THROTTLE_STOPPED_PWM': 370, 'THROTTLE_REVERSE_PWM': 220}\n",
      "REALSENSE_D435_DEPTH : True\n",
      "REALSENSE_D435_ID : None\n",
      "REALSENSE_D435_IMU : False\n",
      "REALSENSE_D435_RGB : True\n",
      "RECORD_ALERT_COLOR_ARR : [(0, (1, 1, 1)), (3000, (5, 5, 5)), (5000, (5, 2, 0)), (10000, (0, 5, 0)), (15000, (0, 5, 5)), (20000, (0, 0, 5))]\n",
      "RECORD_DURING_AI : False\n",
      "REC_COUNT_ALERT : 1000\n",
      "REC_COUNT_ALERT_BLINK_RATE : 0.4\n",
      "REC_COUNT_ALERT_CYC : 15\n",
      "RESET_ORIGIN_BTN : triangle\n",
      "ROI_CROP_BOTTOM : 0\n",
      "ROI_CROP_LEFT : 0\n",
      "ROI_CROP_RIGHT : 0\n",
      "ROI_CROP_TOP : 45\n",
      "ROI_TRAPEZE_LL : 0\n",
      "ROI_TRAPEZE_LR : 160\n",
      "ROI_TRAPEZE_MAX_Y : 120\n",
      "ROI_TRAPEZE_MIN_Y : 60\n",
      "ROI_TRAPEZE_UL : 20\n",
      "ROI_TRAPEZE_UR : 140\n",
      "SAVE_PATH_BTN : cross\n",
      "SEND_BEST_MODEL_TO_PI : False\n",
      "SEQUENCE_LENGTH : 3\n",
      "SERVO_HBRIDGE_2PIN : {'FWD_DUTY_PIN': 'RPI_GPIO.BOARD.18', 'BWD_DUTY_PIN': 'RPI_GPIO.BOARD.16', 'PWM_STEERING_PIN': 'RPI_GPIO.BOARD.33', 'PWM_STEERING_SCALE': 1.0, 'PWM_STEERING_INVERTED': False, 'STEERING_LEFT_PWM': 460, 'STEERING_RIGHT_PWM': 290}\n",
      "SERVO_HBRIDGE_3PIN : {'FWD_PIN': 'RPI_GPIO.BOARD.18', 'BWD_PIN': 'RPI_GPIO.BOARD.16', 'DUTY_PIN': 'RPI_GPIO.BOARD.35', 'PWM_STEERING_PIN': 'RPI_GPIO.BOARD.33', 'PWM_STEERING_SCALE': 1.0, 'PWM_STEERING_INVERTED': False, 'STEERING_LEFT_PWM': 460, 'STEERING_RIGHT_PWM': 290}\n",
      "SHOW_FPS : False\n",
      "SHOW_PLOT : True\n",
      "SIM_ARTIFICIAL_LATENCY : 0\n",
      "SIM_HOST : 127.0.0.1\n",
      "SIM_RECORD_GYROACCEL : False\n",
      "SIM_RECORD_LIDAR : False\n",
      "SIM_RECORD_LOCATION : False\n",
      "SIM_RECORD_VELOCITY : False\n",
      "SSD1306_128_32_I2C_ROTATION : 0\n",
      "SSD1306_RESOLUTION : 1\n",
      "STEERING_CHANNEL : 0\n",
      "STEERING_LEFT_PWM : 460\n",
      "STEERING_PWM_FREQ : 50\n",
      "STEERING_PWM_INVERTED : False\n",
      "STEERING_PWM_PIN : 13\n",
      "STEERING_RC_GPIO : 26\n",
      "STEERING_RIGHT_PWM : 290\n",
      "STOP_SIGN_DETECTOR : False\n",
      "STOP_SIGN_MAX_REVERSE_COUNT : 10\n",
      "STOP_SIGN_MIN_SCORE : 0.2\n",
      "STOP_SIGN_REVERSE_THROTTLE : -0.5\n",
      "STOP_SIGN_SHOW_BOUNDING_BOX : True\n",
      "TELEMETRY_DEFAULT_INPUTS : pilot/angle,pilot/throttle,recording\n",
      "TELEMETRY_DEFAULT_TYPES : float,float\n",
      "TELEMETRY_DONKEY_NAME : my_robot1234\n",
      "TELEMETRY_LOGGING_ENABLE : True\n",
      "TELEMETRY_LOGGING_FORMAT : %(message)s\n",
      "TELEMETRY_LOGGING_LEVEL : INFO\n",
      "TELEMETRY_MQTT_BROKER_HOST : broker.hivemq.com\n",
      "TELEMETRY_MQTT_BROKER_PORT : 1883\n",
      "TELEMETRY_MQTT_JSON_ENABLE : False\n",
      "TELEMETRY_MQTT_TOPIC_TEMPLATE : donkey/%s/telemetry\n",
      "TELEMETRY_PUBLISH_PERIOD : 1\n",
      "THROTTLE_CHANNEL : 0\n",
      "THROTTLE_FORWARD_PWM : 500\n",
      "THROTTLE_PWM_FREQ : 50\n",
      "THROTTLE_PWM_INVERTED : False\n",
      "THROTTLE_PWM_PIN : 18\n",
      "THROTTLE_RC_GPIO : 20\n",
      "THROTTLE_REVERSE_PWM : 220\n",
      "THROTTLE_STOPPED_PWM : 370\n",
      "TRAIN_BEHAVIORS : False\n",
      "TRAIN_LOCALIZER : False\n",
      "TRAIN_TEST_SPLIT : 0.8\n",
      "TRANSFORMATIONS : []\n",
      "USE_EARLY_STOP : True\n",
      "USE_FPV : False\n",
      "USE_JOYSTICK_AS_DEFAULT : False\n",
      "USE_LIDAR : False\n",
      "USE_NETWORKED_JS : False\n",
      "USE_SSD1306_128_32 : False\n",
      "VERBOSE_TRAIN : True\n",
      "WEB_CONTROL_PORT : 8887\n",
      "WEB_INIT_MODE : user\n"
     ]
    }
   ],
   "source": [
    "cfg.show()"
   ]
  },
  {
   "cell_type": "code",
   "execution_count": 7,
   "metadata": {},
   "outputs": [],
   "source": [
    "cfg.IMAGE_W = 320\n",
    "cfg.IMAGE_H = 240"
   ]
  },
  {
   "cell_type": "code",
   "execution_count": 61,
   "metadata": {},
   "outputs": [
    {
     "data": {
      "text/plain": [
       "['__add__',\n",
       " '__class__',\n",
       " '__contains__',\n",
       " '__delattr__',\n",
       " '__delitem__',\n",
       " '__dir__',\n",
       " '__doc__',\n",
       " '__eq__',\n",
       " '__format__',\n",
       " '__ge__',\n",
       " '__getattribute__',\n",
       " '__getitem__',\n",
       " '__gt__',\n",
       " '__hash__',\n",
       " '__iadd__',\n",
       " '__imul__',\n",
       " '__init__',\n",
       " '__init_subclass__',\n",
       " '__iter__',\n",
       " '__le__',\n",
       " '__len__',\n",
       " '__lt__',\n",
       " '__mul__',\n",
       " '__ne__',\n",
       " '__new__',\n",
       " '__reduce__',\n",
       " '__reduce_ex__',\n",
       " '__repr__',\n",
       " '__reversed__',\n",
       " '__rmul__',\n",
       " '__setattr__',\n",
       " '__setitem__',\n",
       " '__sizeof__',\n",
       " '__str__',\n",
       " '__subclasshook__',\n",
       " 'append',\n",
       " 'clear',\n",
       " 'copy',\n",
       " 'count',\n",
       " 'extend',\n",
       " 'index',\n",
       " 'insert',\n",
       " 'pop',\n",
       " 'remove',\n",
       " 'reverse',\n",
       " 'sort']"
      ]
     },
     "execution_count": 61,
     "metadata": {},
     "output_type": "execute_result"
    }
   ],
   "source": [
    "dataset.tubs[0].manifest.catalog_paths)"
   ]
  },
  {
   "cell_type": "code",
   "execution_count": 18,
   "metadata": {},
   "outputs": [
    {
     "name": "stderr",
     "output_type": "stream",
     "text": [
      "INFO:donkeycar.pipeline.types:Loading tubs from paths ['./data/tub_85_22-03-31']\n"
     ]
    },
    {
     "name": "stdout",
     "output_type": "stream",
     "text": [
      "Using catalog f:\\git\\donkey_car_implemented_lag\\data\\tub_85_22-03-31\\catalog_30.catalog\n"
     ]
    },
    {
     "data": {
      "text/plain": [
       "[{'_index': 1048, '_session_id': '22-03-31_0', '_timestamp_ms': 1648732024823, 'behavior/label': 'Straight', 'behavior/one_hot_state_array': [0.0, 1.0, 0.0], 'behavior/state': 1, 'cam/image_array': '1048_cam_image_array_.jpg', 'user/angle': -0.007965330973235268, 'user/mode': 'user', 'user/throttle': 0.8},\n",
       " {'_index': 1049, '_session_id': '22-03-31_0', '_timestamp_ms': 1648732024873, 'behavior/label': 'Straight', 'behavior/one_hot_state_array': [0.0, 1.0, 0.0], 'behavior/state': 1, 'cam/image_array': '1049_cam_image_array_.jpg', 'user/angle': -0.047486800744651635, 'user/mode': 'user', 'user/throttle': 0.8},\n",
       " {'_index': 1050, '_session_id': '22-03-31_0', '_timestamp_ms': 1648732024923, 'behavior/label': 'Straight', 'behavior/one_hot_state_array': [0.0, 1.0, 0.0], 'behavior/state': 1, 'cam/image_array': '1050_cam_image_array_.jpg', 'user/angle': -0.7115085299233985, 'user/mode': 'user', 'user/throttle': 0.8},\n",
       " {'_index': 1051, '_session_id': '22-03-31_0', '_timestamp_ms': 1648732024973, 'behavior/label': 'Straight', 'behavior/one_hot_state_array': [0.0, 1.0, 0.0], 'behavior/state': 1, 'cam/image_array': '1051_cam_image_array_.jpg', 'user/angle': -1.0, 'user/mode': 'user', 'user/throttle': 0.8},\n",
       " {'_index': 1052, '_session_id': '22-03-31_0', '_timestamp_ms': 1648732025023, 'behavior/label': 'Straight', 'behavior/one_hot_state_array': [0.0, 1.0, 0.0], 'behavior/state': 1, 'cam/image_array': '1052_cam_image_array_.jpg', 'user/angle': -1.0, 'user/mode': 'user', 'user/throttle': 0.8}]"
      ]
     },
     "execution_count": 18,
     "metadata": {},
     "output_type": "execute_result"
    }
   ],
   "source": [
    "from donkeycar.pipeline.types import TubDataset, TubRecord\n",
    "\n",
    "dataset = TubDataset(\n",
    "    config = cfg,\n",
    "    tub_paths = [\"./data/tub_85_22-03-31\"],\n",
    "    seq_size = 0\n",
    ")\n",
    "tub_records = dataset.get_records()\n",
    "tub_records[0:5]"
   ]
  },
  {
   "cell_type": "code",
   "execution_count": 28,
   "metadata": {},
   "outputs": [
    {
     "data": {
      "text/plain": [
       "['__class__',\n",
       " '__delattr__',\n",
       " '__dict__',\n",
       " '__dir__',\n",
       " '__doc__',\n",
       " '__eq__',\n",
       " '__format__',\n",
       " '__ge__',\n",
       " '__getattribute__',\n",
       " '__gt__',\n",
       " '__hash__',\n",
       " '__init__',\n",
       " '__init_subclass__',\n",
       " '__le__',\n",
       " '__lt__',\n",
       " '__module__',\n",
       " '__ne__',\n",
       " '__new__',\n",
       " '__reduce__',\n",
       " '__reduce_ex__',\n",
       " '__repr__',\n",
       " '__setattr__',\n",
       " '__sizeof__',\n",
       " '__str__',\n",
       " '__subclasshook__',\n",
       " '__weakref__',\n",
       " '_image',\n",
       " 'base_path',\n",
       " 'config',\n",
       " 'image',\n",
       " 'underlying']"
      ]
     },
     "execution_count": 28,
     "metadata": {},
     "output_type": "execute_result"
    }
   ],
   "source": [
    "dir(np.array(tub_records)[0])"
   ]
  },
  {
   "cell_type": "code",
   "execution_count": 30,
   "metadata": {},
   "outputs": [
    {
     "data": {
      "text/plain": [
       "-0.007965330973235268"
      ]
     },
     "execution_count": 30,
     "metadata": {},
     "output_type": "execute_result"
    }
   ],
   "source": [
    "tub_records[0].underlying['user/angle']"
   ]
  },
  {
   "cell_type": "code",
   "execution_count": 55,
   "metadata": {},
   "outputs": [
    {
     "data": {
      "text/plain": [
       "1048"
      ]
     },
     "execution_count": 55,
     "metadata": {},
     "output_type": "execute_result"
    }
   ],
   "source": [
    "tub_records[0].underlying['_index']"
   ]
  },
  {
   "cell_type": "code",
   "execution_count": 56,
   "metadata": {},
   "outputs": [
    {
     "data": {
      "text/plain": [
       "(1048, -0.007965330973235268)"
      ]
     },
     "execution_count": 56,
     "metadata": {},
     "output_type": "execute_result"
    }
   ],
   "source": [
    "# TODO: is the loaded tub including or excluding deleted records?\n",
    "# EXCLUDING!\n",
    "\n",
    "def get_angles_from_tub(tub):\n",
    "    return [(record_dict.underlying['_index'], record_dict.underlying['user/angle']) for record_dict in np.array(tub)]\n",
    "\n",
    "test_tub_angles = get_angles_from_tub(tub_records)\n",
    "test_tub_angles[0]"
   ]
  },
  {
   "cell_type": "code",
   "execution_count": 33,
   "metadata": {},
   "outputs": [],
   "source": [
    "import pandas as pd\n",
    "from plotnine import *\n"
   ]
  },
  {
   "cell_type": "code",
   "execution_count": 62,
   "metadata": {},
   "outputs": [
    {
     "name": "stdout",
     "output_type": "stream",
     "text": [
      "(18577, 2)\n"
     ]
    }
   ],
   "source": [
    "test_tub_df = pd.DataFrame(test_tub_angles, columns = [\"index\" ,\"angle\"])\n",
    "test_tub_df.head()\n",
    "print(f\"{test_tub_df.shape}\")"
   ]
  },
  {
   "cell_type": "code",
   "execution_count": 42,
   "metadata": {},
   "outputs": [
    {
     "name": "stderr",
     "output_type": "stream",
     "text": [
      "C:\\Users\\Ilmar\\.conda\\envs\\donkey\\lib\\site-packages\\plotnine\\stats\\stat_bin.py:95: PlotnineWarning: 'stat_bin()' using 'bins = 27'. Pick better value with 'binwidth'.\n"
     ]
    },
    {
     "data": {
      "image/png": "[encoded data removed]",
      "text/plain": [
       "<Figure size 640x480 with 1 Axes>"
      ]
     },
     "metadata": {},
     "output_type": "display_data"
    },
    {
     "data": {
      "text/plain": [
       "<ggplot: (-9223371870189711600)>"
      ]
     },
     "execution_count": 42,
     "metadata": {},
     "output_type": "execute_result"
    }
   ],
   "source": [
    "angle_histogram = (\n",
    "    ggplot(test_tub_df, aes(x = \"angle\")) +\n",
    "    geom_histogram() +\n",
    "    theme_bw()\n",
    ")\n",
    "\n",
    "angle_histogram"
   ]
  },
  {
   "cell_type": "code",
   "execution_count": 64,
   "metadata": {},
   "outputs": [
    {
     "data": {
      "image/png": "[encoded data removed]",
      "text/plain": [
       "<Figure size 640x480 with 1 Axes>"
      ]
     },
     "metadata": {},
     "output_type": "display_data"
    },
    {
     "data": {
      "text/plain": [
       "<ggplot: (-9223371870187774512)>"
      ]
     },
     "execution_count": 64,
     "metadata": {},
     "output_type": "execute_result"
    }
   ],
   "source": [
    "angle_time = (\n",
    "    ggplot(test_tub_df, aes(x = \"index\", y = \"angle\")) +\n",
    "    geom_line() +\n",
    "    theme_bw()\n",
    ")\n",
    "angle_time"
   ]
  }
 ],
 "metadata": {
  "interpreter": {
   "hash": "0b5180631a2ecb4bc6244c02439e20fc3c38eb42c64186604b30566e031aceb9"
  },
  "kernelspec": {
   "display_name": "Python 3.7.11 ('donkey')",
   "language": "python",
   "name": "python3"
  },
  "language_info": {
   "codemirror_mode": {
    "name": "ipython",
    "version": 3
   },
   "file_extension": ".py",
   "mimetype": "text/x-python",
   "name": "python",
   "nbconvert_exporter": "python",
   "pygments_lexer": "ipython3",
   "version": "3.7.11"
  },
  "orig_nbformat": 4
 },
 "nbformat": 4,
 "nbformat_minor": 2
}
